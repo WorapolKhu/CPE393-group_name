{
 "cells": [
  {
   "cell_type": "code",
   "execution_count": 2,
   "id": "8edcca7b",
   "metadata": {},
   "outputs": [],
   "source": [
    "from sklearn.ensemble import RandomForestRegressor\n",
    "from sklearn.linear_model import LinearRegression\n",
    "from sklearn.metrics import mean_squared_error, r2_score, mean_absolute_error\n",
    "import joblib\n",
    "import pandas as pd\n",
    "import numpy as np\n",
    "from data_processing import DataProcessor"
   ]
  },
  {
   "cell_type": "code",
   "execution_count": 3,
   "id": "0ae45f99",
   "metadata": {},
   "outputs": [],
   "source": [
    "preprocessor = DataProcessor()\n",
    "# Load data\n",
    "X_train, X_test, y_train, y_test = preprocessor.data_process_train('../data/House_Rent_Dataset.csv')\n"
   ]
  },
  {
   "cell_type": "code",
   "execution_count": 8,
   "id": "3b6ad441",
   "metadata": {},
   "outputs": [],
   "source": [
    "def train_model(model, X_train, y_train, X_test, y_test):\n",
    "    # Train the model\n",
    "    model.fit(X_train, y_train)\n",
    "\n",
    "    # Make predictions\n",
    "    y_pred_train = model.predict(X_train)\n",
    "    y_pred_test = model.predict(X_test)\n",
    "    \n",
    "    # Evaluate the model\n",
    "    mse_train = mean_squared_error(y_train, y_pred_train)\n",
    "    mse_test = mean_squared_error(y_test, y_pred_test)\n",
    "    \n",
    "    r2_train = r2_score(y_train, y_pred_train)\n",
    "    r2_test = r2_score(y_test, y_pred_test)\n",
    "    \n",
    "    mae_train = mean_absolute_error(y_train, y_pred_train)\n",
    "    mae_test = mean_absolute_error(y_test, y_pred_test)\n",
    "    \n",
    "    print(f\"Train MSE: {mse_train:.2f}, R2: {r2_train:.2f}, MAE: {mae_train:.2f}\")\n",
    "    print(f\"Test MSE: {mse_test:.2f}, R2: {r2_test:.2f}, MAE: {mae_test:.2f}\")\n",
    "    \n",
    "    # Save the model\n",
    "    model_path = f'../models/{model.__class__.__name__}.pkl'\n",
    "    joblib.dump(model, model_path)\n",
    "\n",
    "    return model,{ \n",
    "        'mse_train': mse_train,\n",
    "        'mse_test': mse_test,\n",
    "        'r2_train': r2_train,\n",
    "        'r2_test': r2_test,\n",
    "        'mae_train': mae_train,\n",
    "        'mae_test': mae_test\n",
    "    }"
   ]
  },
  {
   "cell_type": "code",
   "execution_count": 9,
   "id": "c69c0d69",
   "metadata": {},
   "outputs": [
    {
     "name": "stdout",
     "output_type": "stream",
     "text": [
      "Train MSE: 870635623.66, R2: 0.87, MAE: 5367.12\n",
      "Test MSE: 1958264555.02, R2: 0.51, MAE: 13182.68\n",
      "Train MSE: 4694562675.78, R2: 0.29, MAE: 22226.53\n",
      "Test MSE: 1906885570.54, R2: 0.52, MAE: 21798.50\n"
     ]
    }
   ],
   "source": [
    "random_forest_model = RandomForestRegressor(random_state=42)\n",
    "linear_reg_model = LinearRegression()\n",
    "\n",
    "rf_model, rf_metrics = train_model(random_forest_model, X_train, y_train, X_test, y_test)\n",
    "lr_model, lr_metrics = train_model(linear_reg_model, X_train, y_train, X_test, y_test)\n",
    "\n",
    "\n"
   ]
  }
 ],
 "metadata": {
  "kernelspec": {
   "display_name": "venv",
   "language": "python",
   "name": "python3"
  },
  "language_info": {
   "codemirror_mode": {
    "name": "ipython",
    "version": 3
   },
   "file_extension": ".py",
   "mimetype": "text/x-python",
   "name": "python",
   "nbconvert_exporter": "python",
   "pygments_lexer": "ipython3",
   "version": "3.11.9"
  }
 },
 "nbformat": 4,
 "nbformat_minor": 5
}
